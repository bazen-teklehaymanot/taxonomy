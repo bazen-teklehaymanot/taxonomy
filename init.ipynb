{
 "cells": [
  {
   "cell_type": "code",
   "execution_count": 5,
   "metadata": {},
   "outputs": [],
   "source": [
    "import csv\n",
    "import os\n",
    "\n",
    "\n",
    "taxonomies = [\n",
    "    {\"taxonomy\": \"Category Taxonomy\", \"description\": \"This taxonomy classifies Wikipedia articles into various categories and subcategories, providing both specific and abstract context.\"},\n",
    "    {\"taxonomy\": \"Biological Taxonomy\", \"description\": \"This taxonomy classifies organisms into a hierarchy of taxonomic ranks, such as species, genus, family, order, class, phylum, kingdom, and domain.\"},\n",
    "    {\"taxonomy\": \"Geographical Taxonomy\", \"description\": \"This taxonomy classifies geographical entities, such as countries, cities, landmarks, etc.\"},\n",
    "    {\"taxonomy\": \"Historical Taxonomy\", \"description\": \"This taxonomy classifies historical events, periods, and figures.\"},\n",
    "    {\"taxonomy\": \"Cultural Taxonomy\", \"description\": \"This taxonomy classifies cultural phenomena, such as music, art, literature, etc.\"},\n",
    "    {\"taxonomy\": \"Linguistic Taxonomy\", \"description\": \"This taxonomy classifies languages and their families.\"},\n",
    "    {\"taxonomy\": \"Technological Taxonomy\", \"description\": \"This taxonomy classifies technologies, inventions, and their inventors.\"},\n",
    "    {\"taxonomy\": \"Medical Taxonomy\", \"description\": \"This taxonomy classifies diseases, medical conditions, treatments, etc.\"},\n",
    "    {\"taxonomy\": \"Astronomical Taxonomy\", \"description\": \"This taxonomy classifies celestial bodies, such as stars, planets, galaxies, etc.\"},\n",
    "    {\"taxonomy\": \"Chemical Taxonomy\", \"description\": \"This taxonomy classifies chemical elements, compounds, and reactions.\"},\n",
    "    {\"taxonomy\": \"Mathematical Taxonomy\", \"description\": \"This taxonomy classifies mathematical concepts, theorems, and mathematicians.\"},\n",
    "    {\"taxonomy\": \"Philosophical Taxonomy\", \"description\": \"This taxonomy classifies philosophical concepts, schools of thought, and philosophers.\"},\n",
    "    {\"taxonomy\": \"Legal Taxonomy\", \"description\": \"This taxonomy classifies legal concepts, laws, and legal cases.\"},\n",
    "    {\"taxonomy\": \"Educational Taxonomy\", \"description\": \"This taxonomy classifies educational concepts, methodologies, and institutions.\"},\n",
    "    {\"taxonomy\": \"Environmental Taxonomy\", \"description\": \"This taxonomy classifies environmental concepts, phenomena, and issues.\"},\n",
    "]\n",
    "\n",
    "keys = taxonomies[0].keys()\n",
    "\n",
    "with open('main.csv', 'w', newline='') as output_file:\n",
    "    dict_writer = csv.DictWriter(output_file, keys)\n",
    "    dict_writer.writeheader()\n",
    "    dict_writer.writerows(taxonomies)\n",
    "    \n",
    "for taxonomy in taxonomies:\n",
    "    taxonomy_name = taxonomy[\"taxonomy\"]\n",
    "    taxonomy_name = taxonomy_name.replace(\"Taxonomy\", \"\")\n",
    "    taxonomy_name = taxonomy_name.strip().lower()\n",
    "    os.mkdir(taxonomy_name)\n",
    "    with open(f\"{taxonomy_name}/README.md\", \"w\") as f:\n",
    "        f.write(f\"# {taxonomy['taxonomy']}\\n\\n{taxonomy['description']}\")"
   ]
  },
  {
   "cell_type": "code",
   "execution_count": 6,
   "metadata": {},
   "outputs": [],
   "source": [
    "def write_to_csv(path,data):\n",
    "    with open(path, 'w', newline='') as output_file:\n",
    "        writer = csv.writer(output_file)\n",
    "        writer.writerow(['No.', 'Word'])\n",
    "        for i, word in enumerate(data.split(',')):\n",
    "            temp_w = word.strip().split('.')\n",
    "            writer.writerow([temp_w[0].strip(), temp_w[1].strip()])"
   ]
  },
  {
   "cell_type": "markdown",
   "metadata": {},
   "source": [
    "### Category Taxonomy"
   ]
  },
  {
   "cell_type": "code",
   "execution_count": 6,
   "metadata": {},
   "outputs": [],
   "source": [
    "# animals = \"Mammals, Birds, Reptiles, Amphibians, Fish, Insects, Crustaceans, Arachnids, Primates, Rodents, Carnivores, Cetaceans, Marsupials, Bats, Poultry, Raptors, Waterfowl, Turtles, Snakes, Lizards, Frogs, Salamanders, Sharks, Rays, Bony Fish, Beetles, Butterflies, Bees, Spiders, Mites, Humans, Mice, Lions, Whales, Kangaroos, Chickens, Eagles, Ducks, Pythons, Iguanas, Newts, Goldfish, Monarch Butterfly, Honeybee, Black Widow, Ticks\"\n",
    "# plants = \"Fungi, Algae, Mosses, Ferns, Conifers, Flowering Plants, Mushrooms, Yeasts, Moss, Fern, Pine, Oak, Rose, Daisy, Tulip, Sunflower, Orchid, Lily, Bamboo, Cactus, Palm, Maple, Willow, Cherry, Apple, Pear, Peach, Plum, Grape, Orange, Lemon, Lime, Tomato, Potato, Carrot, Onion, Garlic, Lettuce, Cabbage, Broccoli, Spinach, Pea, Bean, Corn, Wheat, Rice, Barley, Oat, Rye, Soybean, Peanut, Walnut, Almond, Hazelnut, Pecan, Coconut, Pineapple, Mango, Banana, Strawberry, Raspberry, Blueberry, Blackberry, Cranberry, Pomegranate, Kiwi, Watermelon, Cantaloupe, Honeydew, Pumpkin, Squash, Zucchini, Cucumber, Pepper, Eggplant, Olive, Avocado, Artichoke, Asparagus, Celery, Beet, Radish, Turnip, Parsnip, Rutabaga, Sweet Potato, Yam, Quinoa, Chia, Flax, Hemp, Buckwheat, Millet, Sorghum, Teff, Amaranth, Spelt, Kamut, Triticale, Fonio, Farro, Freekeh, Einkorn, Emmer, Durum, Khorasan, Rye, Barley, Oats, Maize, Rice, Wheat, Sorghum, Millet, Triticale, Teff, Fonio, Quinoa, Buckwheat, Amaranth, Spelt, Kamut, Einkorn, Emmer, Durum, Khorasan, Rye, Barley, Oats, Maize, Rice, Wheat, Sorghum, Millet, Triticale, Teff, Fonio, Quinoa, Buckwheat, Amaranth, Spelt, Kamut, Einkorn, Emmer, Durum, Khorasan\";\n",
    "# microorganisms = \"Bacteria, Viruses, Protozoa, E. Coli, Influenza, HIV, Amoebas, Plankton, Brewer's Yeast, Diatoms, Cyanobacteria, Lactobacillus, Streptococcus, Staphylococcus, Bacillus, Clostridium, Salmonella, Shigella, Escherichia, Pseudomonas, Mycobacterium, Helicobacter, Vibrio, Campylobacter, Listeria, Enterococcus, Klebsiella, Proteus, Serratia, Legionella, Yersinia, Pasteurella, Haemophilus, Neisseria, Treponema, Borrelia, Leptospira, Mycoplasma, Chlamydia, Rickettsia, Coxiella, Ehrlichia, Anaplasma, Bartonella, Brucella, Francisella, Yersinia, Pasteurella, Haemophilus, Neisseria, Treponema, Borrelia, Leptospira, Mycoplasma, Chlamydia, Rickettsia, Coxiella, Ehrlichia, Anaplasma, Bartonella, Brucella, Francisella\"\n",
    "# chemical_elements = \"Hydrogen, Helium, Lithium, Beryllium, Boron, Carbon, Nitrogen, Oxygen, Fluorine, Neon, Sodium, Magnesium, Aluminum, Silicon, Phosphorus, Sulfur, Chlorine, Argon, Potassium, Calcium, Scandium, Titanium, Vanadium, Chromium, Manganese, Iron, Cobalt, Nickel, Copper, Zinc, Gallium, Germanium, Arsenic, Selenium, Bromine, Krypton, Rubidium, Strontium, Yttrium, Zirconium, Niobium, Molybdenum, Technetium, Ruthenium, Rhodium, Palladium, Silver, Cadmium, Indium, Tin, Antimony, Tellurium, Iodine, Xenon, Cesium, Barium, Lanthanum, Cerium, Praseodymium, Neodymium, Promethium, Samarium, Europium, Gadolinium, Terbium, Dysprosium, Holmium, Erbium, Thulium, Ytterbium, Lutetium, Hafnium, Tantalum, Tungsten, Rhenium, Osmium, Iridium, Platinum, Gold, Mercury, Thallium, Lead, Bismuth, Polonium, Astatine, Radon, Francium, Radium, Actinium, Thorium, Protactinium, Uranium, Neptunium, Plutonium, Americium, Curium, Berkelium, Californium, Einsteinium, Fermium, Mendelevium, Nobelium, Lawrencium, Rutherfordium, Dubnium, Seaborgium, Bohrium, Hassium, Meitnerium, Darmstadtium, Roentgenium, Copernicium, Nihonium, Flerovium, Moscovium, Livermorium, Tennessine, Oganesson\"\n",
    "# programming_languages = \"Python, Java, C, C++, C#, JavaScript, Ruby, Swift, Kotlin, Go, Rust, TypeScript, PHP, Perl, R, Scala, Groovy, Haskell, Lua, MATLAB, SQL, Shell, Dart, Julia, Clojure, F#, Objective-C, Assembly, VBA, Groovy, Kotlin, Swift, TypeScript, Rust, Go, Dart, Julia, Clojure, F#, Objective-C, Assembly, VBA\"\n",
    "cat_dir = \"category\"\n",
    "cat_taxonomy_words = \"1. Animal, 2. Plant, 3. Bacteria, 4. Fungi, 5. Protist, 6. Archaea, 7. Eukaryote, 8. Prokaryote, 9. Species, 10. Genus, 11. Family, 12. Order, 13. Class, 14. Phylum, 15. Kingdom, 16. Domain, 17. Life, 18. Cell, 19. Organism, 20. Population, 21. Community, 22. Ecosystem, 23. Biosphere, 24. Evolution, 25. Adaptation, 26. Natural Selection, 27. Mutation, 28. Variation, 29. Heredity, 30. Genetics, 31. DNA, 32. Gene, 33. Chromosome, 34. Nucleus, 35. Mitosis, 36. Meiosis, 37. Reproduction, 38. Fertilization, 39. Zygote, 40. Embryo, 41. Development, 42. Growth, 43. Aging, 44. Death, 45. Behavior, 46. Learning, 47. Intelligence, 48. Emotion, 49. Instinct, 50. Communication, 51. Language, 52. Culture, 53. Society, 54. Economy, 55. Politics, 56. Religion, 57. Science, 58. Technology, 59. Art, 60. Literature, 61. Music, 62. Philosophy, 63. History, 64. Geography, 65. Mathematics, 66. Physics, 67. Chemistry, 68. Biology, 69. Psychology, 70. Sociology, 71. Anthropology, 72. Archaeology, 73. Astronomy, 74. Geology, 75. Meteorology, 76. Ecology, 77. Medicine, 78. Engineering, 79. Computer Science, 80. Information, 81. Data, 82. Theory, 83. Hypothesis, 84. Experiment, 85. Observation, 86. Measurement, 87. Analysis, 88. Interpretation, 89. Conclusion, 90. Publication, 91. Review, 92. Replication, 93. Knowledge, 94. Understanding, 95. Wisdom, 96. Truth, 97. Fact, 98. Belief, 99. Opinion, 100. Perspective, 101. Bias, 102. Prejudice, 103. Discrimination, 104. Equality, 105. Justice, 106. Freedom, 107. Rights, 108. Responsibility, 109. Ethics, 110. Morality, 111. Law, 112. Government, 113. Power, 114. Authority, 115. Leadership, 116. Democracy, 117. Republic, 118. Monarchy, 119. Dictatorship, 120. Anarchy, 121. War, 122. Peace, 123. Conflict, 124. Cooperation, 125. Competition, 126. Success, 127. Failure, 128. Reward, 129. Punishment, 130. Wealth, 131. Poverty, 132. Health, 133. Disease, 134. Happiness, 135. Suffering, 136. Love, 137. Hate, 138. Desire, 139. Fear, 140. Joy, 141. Sadness, 142. Anger, 143. Surprise, 144. Disgust, 145. Trust, 146. Doubt, 147. Confidence, 148. Insecurity, 149. Pride, 150. Shame, 151. Respect, 152. Disrespect, 153. Friendship, 154. Enmity, 155. Loyalty, 156. Betrayal, 157. Honesty, 158. Deception, 159. Generosity, 160. Selfishness, 161. Courage, 162. Cowardice, 163. Optimism, 164. Pessimism, 165. Hope, 166. Despair, 167. Patience, 168. Impatience, 169. Humility, 170. Arrogance, 171. Forgiveness, 172. Revenge, 173. Gratitude, 174. Ingratitude, 175. Sympathy, 176. Apathy, 177. Empathy, 178. Indifference, 179. Compassion, 180. Cruelty, 181. Kindness, 182. Meanness, 183. Beauty, 184. Ugliness, 185. Creativity, 186. Destruction, 187. Simplicity, 188. Complexity, 189. Order, 190. Chaos, 191. Unity, 192. Diversity, 193. Stability, 194. Change, 195. Tradition, 196. Innovation, 197. Conservation, 198. Exploitation, 199. Sustainability, 200. Degradation, 201. Harmony, 202. Conflict, 203. Reality, 204. Illusion, 205. Existence, 206. Nonexistence, 207. Life, 208. Death, 209. Beginning, 210. End, 211. Eternity, 212. Time, 213. Past, 214. Present, 215. Future, 216. Space, 217. Place, 218. Location, 219. Direction, 220. Distance, 221. Size, 222. Shape, 223. Color, 224. Texture, 225. Sound, 226. Smell, 227. Taste, 228. Touch, 229. Sight, 230. Hearing, 231. Smell, 232. Taste, 233. Touch, 234. Perception, 235. Sensation, 236. Consciousness, 237. Unconsciousness, 238. Dream, 239. Nightmare, 240. Sleep, 241. Wakefulness, 242. Energy, 243. Matter, 244. Force, 245. Motion, 246. Speed, 247. Velocity, 248. Acceleration, 249. Inertia, 250. Momentum, 251. Gravity, 252. Electromagnetism, 253. Strong Force, 254. Weak Force, 255. Quantum, 256. Relativity, 257. Atom, 258. Molecule, 259. Compound, 260. Element, 261. Electron, 262. Proton, 263. Neutron, 264. Quark, 265. Lepton, 266. Boson, 267. Photon, 268. Neutrino, 269. Meson, 270. Baryon, 271. Hadron, 272. Fermion, 273. Antiparticle, 274. Dark Matter, 275. Dark Energy, 276. Universe, 277. Galaxy, 278. Star, 279. Planet, 280. Moon, 281. Comet, 282. Asteroid, 283. Meteor, 284. Black Hole, 285. Nebula, 286. Supernova, 287. Big Bang, 288. Singularity, 289. Multiverse, 290. Dimension, 291. Space-Time, 292. Continuum, 293. Infinity, 294. Void, 295. Vacuum, 296. Field, 297. Wave, 298. Particle, 299. Duality, 300. Uncertainty, 301. Probability, 302. Determinism, 303. Chaos, 304. Order, 305. Symmetry, 306. Asymmetry, 307. Balance, 308. Imbalance, 309. Harmony, 310. Discord, 311. Resonance, 312. Dissonance, 313. Vibration, 314. Frequency, 315. Amplitude, 316. Wavelength, 317. Phase, 318. Cycle, 319. Oscillation, 320. Pulse, 321. Beat, 322. Rhythm, 323. Tempo, 324. Melody, 325. Harmony, 326. Chord, 327. Scale, 328. Key, 329. Note, 330. Tone, 331. Pitch, 332. Volume, 333. Timbre, 334. Noise, 335. Silence, 336. Sound, 337. Music, 338. Song, 339. Symphony, 340. Concerto, 341. Sonata, 342. Opera, 343. Ballet, 344. Dance, 345. Drama, 346. Comedy, 347. Tragedy, 348. Romance, 349. Mystery, 350. Horror, 351. Fantasy, 352. Science Fiction, 353. Adventure, 354. Action, 355. Thriller, 356. Crime, 357. Detective, 358. Spy, 359. War, 360. Western, 361. Historical, 362. Biographical, 363. Documentary, 364. Reality, 365. Animation, 366. Cartoon, 367. Graphic Novel, 368. Comic Book, 369. Manga, 370. Anime, 371. Video Game, 372. Role-Playing, 373. Strategy, 374. Simulation, 375. Sports, 376. Racing, 377. Fighting, 378. Shooting, 379. Adventure, 380. Puzzle, 381. Platform, 382. Action, 383. Arcade, 384. Casual, 385. Educational, 386. Music, 387. Dance, 388. Art, 389. Literature, 390. Poetry, 391. Prose, 392. Fiction, 393. Nonfiction, 394. Biography, 395. Autobiography, 396. Memoir, 397. Essay, 398. Article, 399. Report, 400. Review, 401. Critique, 402. Analysis, 403. Interpretation, 404. Translation, 405. Commentary, 406. Annotation, 407. Glossary, 408. Dictionary, 409. Thesaurus, 410. Encyclopedia, 411. Atlas, 412. Almanac, 413. Guidebook, 414. Manual, 415. Textbook, 416. Workbook, 417. Notebook, 418. Journal, 419. Diary, 420. Letter, 421. Email, 422. Blog, 423. Website, 424. Forum, 425. Chat, 426. Social Media, 427. News, 428. Newspaper, 429. Magazine, 430. Book, 431. Novel, 432. Short Story, 433. Play, 434. Screenplay, 435. Script, 436. Dialogue, 437. Monologue, 438. Speech, 439. Lecture, 440. Presentation, 441. Debate, 442. Interview, 443. Discussion, 444. Conversation, 445. Talk, 446. Chat, 447. Gossip, 448. Rumor, 449. Secret, 450. Truth, 451. Lie, 452. Fact, 453. Opinion, 454. Belief, 455. Doubt, 456. Knowledge, 457. Ignorance, 458. Wisdom, 459. Foolishness, 460. Intelligence, 461. Stupidity, 462. Genius, 463. Madness, 464. Sanity, 465. Reality, 466. Fantasy, 467. Dream, 468. Nightmare, 469. Vision, 470. Illusion, 471. Delusion, 472. Hallucination, 473. Perception, 474. Sensation, 475. Feeling, 476. Emotion, 477. Thought, 478. Idea, 479. Concept, 480. Theory, 481. Hypothesis, 482. Assumption, 483. Premise, 484. Conclusion, 485. Argument, 486. Proof, 487. Evidence, 488. Fact, 489. Data, 490. Information, 491. Knowledge, 492. Wisdom, 493. Understanding, 494. Insight, 495. Enlightenment, 496. Illumination, 497. Revelation, 498. Epiphany, 499. Awakening, 500. Realization\"\n",
    "\n",
    "with open(f'{cat_dir}/words.csv', 'w', newline='') as output_file:\n",
    "    writer = csv.writer(output_file)\n",
    "    writer.writerow(['No.', 'Word'])\n",
    "    for i, word in enumerate(cat_taxonomy_words.split(',')):\n",
    "        temp_w = word.strip().split('.')\n",
    "        writer.writerow([temp_w[0].strip(), temp_w[1].strip()])\n"
   ]
  },
  {
   "cell_type": "markdown",
   "metadata": {},
   "source": [
    "### Cultural Taxonomy"
   ]
  },
  {
   "cell_type": "code",
   "execution_count": 8,
   "metadata": {},
   "outputs": [],
   "source": [
    "cul_dir = \"cultural\"\n",
    "cul_tax_words = \"1. Tradition, 2. Modernity, 3. Ritual, 4. Innovation, 5. Heritage, 6. Progress, 7. Custom, 8. Change, 9. History, 10. Future, 11. Ancestry, 12. Generation, 13. Culture, 14. Globalization, 15. Ethnicity, 16. Diversity, 17. Race, 18. Equality, 19. Religion, 20. Secularism, 21. Spirituality, 22. Materialism, 23. Mythology, 24. Science, 25. Folklore, 26. Fiction, 27. Art, 28. Technology, 29. Music, 30. Silence, 31. Dance, 32. Stillness, 33. Cuisine, 34. Hunger, 35. Fashion, 36. Nudity, 37. Architecture, 38. Ruin, 39. Literature, 40. Illiteracy, 41. Language, 42. Silence, 43. Education, 44. Ignorance, 45. Philosophy, 46. Nihilism, 47. Morality, 48. Corruption, 49. Law, 50. Anarchy, 51. Politics, 52. Apathy, 53. Democracy, 54. Tyranny, 55. Freedom, 56. Slavery, 57. Peace, 58. War, 59. Prosperity, 60. Poverty, 61. Wealth, 62. Debt, 63. Health, 64. Disease, 65. Life, 66. Death, 67. Youth, 68. Age, 69. Family, 70. Loneliness, 71. Marriage, 72. Divorce, 73. Birth, 74. Abortion, 75. Love, 76. Hatred, 77. Friendship, 78. Enmity, 79. Joy, 80. Sorrow, 81. Celebration, 82. Mourning, 83. Comedy, 84. Tragedy, 85. Laughter, 86. Tears, 87. Pleasure, 88. Pain, 89. Desire, 90. Aversion, 91. Beauty, 92. Ugliness, 93. Strength, 94. Weakness, 95. Courage, 96. Fear, 97. Honor, 98. Shame, 99. Pride, 100. Humility, 101. Loyalty, 102. Betrayal, 103. Truth, 104. Lie, 105. Justice, 106. Injustice, 107. Wisdom, 108. Foolishness, 109. Knowledge, 110. Ignorance, 111. Skill, 112. Incompetence, 113. Success, 114. Failure, 115. Victory, 116. Defeat, 117. Fame, 118. Obscurity, 119. Reputation, 120. Infamy, 121. Influence, 122. Impotence, 123. Power, 124. Weakness, 125. Authority, 126. Rebellion, 127. Leadership, 128. Subordination, 129. Cooperation, 130. Competition, 131. Unity, 132. Division, 133. Harmony, 134. Discord, 135. Simplicity, 136. Complexity, 137. Clarity, 138. Confusion, 139. Transparency, 140. Secrecy, 141. Honesty, 142. Deception, 143. Generosity, 144. Greed, 145. Kindness, 146. Cruelty, 147. Compassion, 148. Indifference, 149. Empathy, 150. Apathy, 151. Gratitude, 152. Ingratitude, 153. Forgiveness, 154. Revenge, 155. Patience, 156. Impatience, 157. Persistence, 158. Surrender, 159. Discipline, 160. Chaos, 161. Order, 162. Disorder, 163. Respect, 164. Disrespect, 165. Dignity, 166. Humiliation, 167. Confidence, 168. Insecurity, 169. Optimism, 170. Pessimism, 171. Hope, 172. Despair, 173. Faith, 174. Doubt, 175. Belief, 176. Skepticism, 177. Dream, 178. Reality, 179. Imagination, 180. Pragmatism, 181. Creativity, 182. Conformity, 183. Originality, 184. Imitation, 185. Individuality, 186. Uniformity, 187. Independence, 188. Dependence, 189. Autonomy, 190. Control, 191. Freedom, 192. Restriction, 193. Liberty, 194. Captivity, 195. Enlightenment, 196. Ignorance, 197. Awakening, 198. Sleep, 199. Reality, 200. Illusion\"\n",
    "write_to_csv(f'{cul_dir}/words.csv', cul_tax_words)"
   ]
  },
  {
   "cell_type": "markdown",
   "metadata": {},
   "source": [
    "### Linguistic Taxonomy"
   ]
  },
  {
   "cell_type": "code",
   "execution_count": 7,
   "metadata": {},
   "outputs": [],
   "source": [
    "lin_dir = \"linguistic\"\n",
    "lin_tax_words = \"1. Love, 2. Hate, 3. Joy, 4. Sadness, 5. Fear, 6. Courage, 7. Peace, 8. War, 9. Freedom, 10. Slavery, 11. Truth, 12. Lie, 13. Justice, 14. Injustice, 15. Equality, 16. Inequality, 17. Knowledge, 18. Ignorance, 19. Wisdom, 20. Foolishness, 21. Beauty, 22. Ugliness, 23. Youth, 24. Age, 25. Life, 26. Death, 27. Reality, 28. Illusion, 29. Success, 30. Failure, 31. Wealth, 32. Poverty, 33. Health, 34. Sickness, 35. Strength, 36. Weakness, 37. Power, 38. Impotence, 39. Hope, 40. Despair, 41. Pride, 42. Humility, 43. Loyalty, 44. Betrayal, 45. Honor, 46. Dishonor, 47. Respect, 48. Disrespect, 49. Generosity, 50. Greed, 51. Kindness, 52. Cruelty, 53. Patience, 54. Impatience, 55. Forgiveness, 56. Revenge, 57. Gratitude, 58. Ingratitude, 59. Humor, 60. Seriousness, 61. Optimism, 62. Pessimism, 63. Confidence, 64. Insecurity, 65. Trust, 66. Distrust, 67. Passion, 68. Indifference, 69. Pleasure, 70. Pain, 71. Gain, 72. Loss, 73. Victory, 74. Defeat, 75. Fame, 76. Obscurity, 77. Sanity, 78. Insanity, 79. Reality, 80. Fantasy, 81. Authenticity, 82. Fakeness, 83. Harmony, 84. Chaos, 85. Morality, 86. Immorality, 87. Virtue, 88. Vice, 89. Reward, 90. Punishment, 91. Innocence, 92. Guilt, 93. Purity, 94. Corruption, 95. Unity, 96. Division, 97. Clarity, 98. Confusion, 99. Simplicity, 100. Complexity, 101. Light, 102. Darkness, 103. Goodness, 104. Evil, 105. Heaven, 106. Hell, 107. Creation, 108. Destruction, 109. Beginning, 110. End, 111. Birth, 112. Death, 113. Dream, 114. Nightmare, 115. Truth, 116. Deception, 117. Intelligence, 118. Stupidity, 119. Laughter, 120. Tears, 121. Celebration, 122. Mourning, 123. Comedy, 124. Tragedy, 125. Romance, 126. Heartbreak, 127. Magic, 128. Science, 129. Mystery, 130. Explanation, 131. Adventure, 132. Routine, 133. Surprise, 134. Expectation, 135. Discovery, 136. Loss, 137. Gift, 138. Theft, 139. Blessing, 140. Curse, 141. Miracle, 142. Disaster, 143. Hero, 144. Villain, 145. Master, 146. Servant, 147. Teacher, 148. Student, 149. Leader, 150. Follower, 151. Predator, 152. Prey, 153. Winner, 154. Loser, 155. Saint, 156. Sinner, 157. Angel, 158. Demon, 159. God, 160. Devil, 161. Friend, 162. Enemy, 163. Parent, 164. Child, 165. Brother, 166. Sister, 167. Husband, 168. Wife, 169. Boy, 170. Girl, 171. Man, 172. Woman, 173. King, 174. Queen, 175. Prince, 176. Princess, 177. Knight, 178. Dragon, 179. Sun, 180. Moon, 181. Star, 182. Earth, 183. Fire, 184. Water, 185. Air, 186. Spirit, 187. Mind, 188. Body, 189. Heart, 190. Soul, 191. Heaven, 192. Earth, 193. Past, 194. Present, 195. Future, 196. Today, 197. Tomorrow, 198. Forever, 199. Always, 200. Never\"\n",
    "write_to_csv(f'{lin_dir}/words.csv', lin_tax_words)"
   ]
  },
  {
   "cell_type": "markdown",
   "metadata": {},
   "source": [
    "### Philosophical Taxonomy"
   ]
  },
  {
   "cell_type": "code",
   "execution_count": 12,
   "metadata": {},
   "outputs": [],
   "source": [
    "phil_dir = \"philosophical\"\n",
    "phil_tax_words = \"1. Metaphysics, 2. Epistemology, 3. Logic, 4. Ethics, 5. Aesthetics, 6. Existence, 7. Reality, 8. Consciousness, 9. Identity, 10. Time, 11. Space, 12. Causality, 13. Freedom, 14. Determinism, 15. God, 16. Soul, 17. Universe, 18. Knowledge, 19. Belief, 20. Truth, 21. Justification, 22. Perception, 23. Memory, 24. Intuition, 25. Reason, 26. Argument, 27. Fallacy, 28. Proposition, 29. Inference, 30. Validity, 31. Morality, 32. Good, 33. Evil, 34. Right, 35. Wrong, 36. Justice, 37. Virtue, 38. Value, 39. Duty, 40. Happiness, 41. Beauty, 42. Art, 43. Taste, 44. Judgment, 45. Interpretation, 46. Representation, 47. Expression, 48. Imagination, 49. Creativity, 50. Mind, 51. Body, 52. Substance, 53. Property, 54. Quality, 55. Quantity, 56. Relation, 57. Modality, 58. Possibility, 59. Necessity, 60. Contingency, 61. Certainty, 62. Doubt, 63. Skepticism, 64. Cynicism, 65. Relativism, 66. Absolutism, 67. Empiricism, 68. Rationalism, 69. Idealism, 70. Materialism, 71. Dualism, 72. Monism, 73. Pluralism, 74. Holism, 75. Reductionism, 76. Realism, 77. Nominalism, 78. Phenomenalism, 79. Pragmatism, 80. Humanism, 81. Existentialism, 82. Nihilism, 83. Hedonism, 84. Stoicism, 85. Cynicism, 86. Skepticism, 87. Epicureanism, 88. Platonism, 89. Aristotelianism, 90. Scholasticism, 91. Cartesianism, 92. Kantianism, 93. Hegelianism, 94. Marxism, 95. Nietzscheanism, 96. Freudianism, 97. Structuralism, 98. Poststructuralism, 99. Deconstruction, 100. Hermeneutics, 101. Phenomenology, 102. Existentialism, 103. Analytic philosophy, 104. Continental philosophy, 105. Eastern philosophy, 106. Western philosophy, 107. Ancient philosophy, 108. Medieval philosophy, 109. Modern philosophy, 110. Contemporary philosophy, 111. Feminist philosophy, 112. Philosophy of science, 113. Philosophy of mind, 114. Philosophy of language, 115. Philosophy of law, 116. Philosophy of history, 117. Philosophy of religion, 118. Philosophy of education, 119. Philosophy of mathematics, 120. Philosophy of physics, 121. Philosophy of biology, 122. Philosophy of social science, 123. Philosophy of technology, 124. Political philosophy, 125. Social philosophy, 126. Ethical philosophy, 127. Aesthetic philosophy, 128. Ontology, 129. Cosmology, 130. Teleology, 131. Theology, 132. Anthropology, 133. Psychology, 134. Sociology, 135. Ecology, 136. Economy, 137. Technology, 138. Biology, 139. Geology, 140. Astronomy, 141. Mathematics, 142. Physics, 143. Chemistry, 144. Medicine, 145. Law, 146. History, 147. Literature, 148. Music, 149. Painting, 150. Sculpture, 151. Dance, 152. Theater, 153. Cinema, 154. Photography, 155. Architecture, 156. Design, 157. Fashion, 158. Cuisine, 159. Sport, 160. Game, 161. Hobby, 162. Travel, 163. Adventure, 164. Exploration, 165. Discovery, 166. Invention, 167. Creation, 168. Production, 169. Distribution, 170. Consumption, 171. Trade, 172. Exchange, 173. Gift, 174. Hospitality, 175. Friendship, 176. Love, 177. Marriage, 178. Family, 179. Community, 180. Society, 181. Nation, 182. State, 183. Government, 184. Authority, 185. Power, 186. Freedom, 187. Rights, 188. Duties, 189. Rules, 190. Laws, 191. Customs, 192. Traditions, 193. Culture, 194. Civilization, 195. Progress, 196. Development, 197. Evolution, 198. Revolution, 199. War, 200. Peace\"\n",
    "write_to_csv(f'{phil_dir}/words.csv', phil_tax_words)"
   ]
  },
  {
   "cell_type": "markdown",
   "metadata": {},
   "source": [
    "### Educational Taxonomy"
   ]
  },
  {
   "cell_type": "code",
   "execution_count": 10,
   "metadata": {},
   "outputs": [],
   "source": [
    "educ_dir = \"educational\"\n",
    "educ_tax_words = \"1. Knowledge, 2. Learning, 3. Education, 4. School, 5. University, 6. College, 7. Student, 8. Teacher, 9. Professor, 10. Classroom, 11. Homework, 12. Assignment, 13. Lecture, 14. Seminar, 15. Degree, 16. Diploma, 17. Certificate, 18. Course, 19. Curriculum, 20. Syllabus, 21. Textbook, 22. Study, 23. Research, 24. Thesis, 25. Dissertation, 26. Essay, 27. Report, 28. Examination, 29. Test, 30. Quiz, 31. Grade, 32. Score, 33. Pass, 34. Fail, 35. Subject, 36. Discipline, 37. Field, 38. Major, 39. Minor, 40. Elective, 41. Prerequisite, 42. Credit, 43. Tuition, 44. Scholarship, 45. Grant, 46. Loan, 47. Admission, 48. Application, 49. Enrollment, 50. Graduation, 51. Alumni, 52. Literacy, 53. Numeracy, 54. Skill, 55. Competency, 56. Ability, 57. Talent, 58. Intelligence, 59. Wisdom, 60. Understanding, 61. Insight, 62. Comprehension, 63. Perception, 64. Awareness, 65. Consciousness, 66. Memory, 67. Recall, 68. Recognition, 69. Retention, 70. Forgetfulness, 71. Ignorance, 72. Illiteracy, 73. Incompetence, 74. Error, 75. Mistake, 76. Correction, 77. Improvement, 78. Progress, 79. Development, 80. Growth, 81. Evolution, 82. Change, 83. Transformation, 84. Revolution, 85. Innovation, 86. Invention, 87. Discovery, 88. Breakthrough, 89. Achievement, 90. Success, 91. Excellence, 92. Mastery, 93. Expertise, 94. Professionalism, 95. Vocation, 96. Career, 97. Employment, 98. Work, 99. Job, 100. Occupation, 101. Practice, 102. Experience, 103. Training, 104. Preparation, 105. Qualification, 106. Certification, 107. Accreditation, 108. Authorization, 109. License, 110. Standard, 111. Criterion, 112. Benchmark, 113. Measure, 114. Assessment, 115. Evaluation, 116. Appraisal, 117. Review, 118. Feedback, 119. Comment, 120. Opinion, 121. Criticism, 122. Praise, 123. Approval, 124. Acceptance, 125. Recognition, 126. Respect, 127. Reputation, 128. Prestige, 129. Influence, 130. Authority, 131. Power, 132. Control, 133. Discipline, 134. Order, 135. Rule, 136. Regulation, 137. Policy, 138. Guideline, 139. Procedure, 140. Method, 141. Approach, 142. Technique, 143. Strategy, 144. Plan, 145. Design, 146. Structure, 147. System, 148. Process, 149. Operation, 150. Function, 151. Task, 152. Duty, 153. Responsibility, 154. Obligation, 155. Commitment, 156. Dedication, 157. Effort, 158. Hard work, 159. Struggle, 160. Challenge, 161. Difficulty, 162. Problem, 163. Obstacle, 164. Barrier, 165. Limitation, 166. Constraint, 167. Restriction, 168. Prohibition, 169. Ban, 170. Censorship, 171. Suppression, 172. Oppression, 173. Injustice, 174. Discrimination, 175. Bias, 176. Prejudice, 177. Stereotype, 178. Misconception, 179. Myth, 180. Fallacy, 181. Delusion, 182. Illusion, 183. Fantasy, 184. Dream, 185. Vision, 186. Inspiration, 187. Motivation, 188. Passion, 189. Enthusiasm, 190. Excitement, 191. Interest, 192. Curiosity, 193. Inquiry, 194. Question, 195. Doubt, 196. Skepticism, 197. Disbelief, 198. Denial, 199. Rejection, 200. Refusal\"\n",
    "write_to_csv(f'{educ_dir}/words.csv', educ_tax_words)"
   ]
  },
  {
   "cell_type": "markdown",
   "metadata": {},
   "source": [
    "### Environmental Taxonomy"
   ]
  },
  {
   "cell_type": "code",
   "execution_count": 11,
   "metadata": {},
   "outputs": [],
   "source": [
    "env_dir = \"environmental\"\n",
    "env_tax_word = \"1. Ecosystem, 2. Biodiversity, 3. Conservation, 4. Habitat, 5. Species, 6. Population, 7. Climate, 8. Weather, 9. Atmosphere, 10. Ozone, 11. Greenhouse, 12. Carbon, 13. Nitrogen, 14. Oxygen, 15. Hydrogen, 16. Photosynthesis, 17. Respiration, 18. Decomposition, 19. Nutrient, 20. Cycle, 21. Food chain, 22. Predator, 23. Prey, 24. Herbivore, 25. Carnivore, 26. Omnivore, 27. Parasite, 28. Symbiosis, 29. Mutualism, 30. Commensalism, 31. Competition, 32. Cooperation, 33. Adaptation, 34. Evolution, 35. Natural selection, 36. Mutation, 37. Speciation, 38. Extinction, 39. Fossil, 40. Geology, 41. Plate tectonics, 42. Volcano, 43. Earthquake, 44. Mountain, 45. Valley, 46. River, 47. Ocean, 48. Lake, 49. Pond, 50. Wetland, 51. Forest, 52. Grassland, 53. Desert, 54. Tundra, 55. Polar, 56. Tropical, 57. Temperate, 58. Rainfall, 59. Drought, 60. Flood, 61. Storm, 62. Hurricane, 63. Tornado, 64. Tsunami, 65. Fire, 66. Pollution, 67. Waste, 68. Recycling, 69. Compost, 70. Landfill, 71. Sewage, 72. Pesticide, 73. Fertilizer, 74. Acid rain, 75. Smog, 76. Radiation, 77. Noise, 78. Light, 79. Heat, 80. Energy, 81. Solar, 82. Wind, 83. Hydroelectric, 84. Geothermal, 85. Nuclear, 86. Fossil fuel, 87. Coal, 88. Oil, 89. Gas, 90. Biofuel, 91. Efficiency, 92. Sustainability, 93. Renewable, 94. Resource, 95. Overpopulation, 96. Consumption, 97. Deforestation, 98. Desertification, 99. Erosion, 100. Salinization, 101. Urbanization, 102. Infrastructure, 103. Transportation, 104. Agriculture, 105. Aquaculture, 106. Hunting, 107. Fishing, 108. Mining, 109. Logging, 110. Trade, 111. Tourism, 112. Disease, 113. Invasive, 114. Endangered, 115. Protected, 116. Park, 117. Reserve, 118. Wilderness, 119. Garden, 120. Zoo, 121. Aquarium, 122. Museum, 123. Education, 124. Research, 125. Citizen science, 126. Activism, 127. Policy, 128. Regulation, 129. Management, 130. Planning, 131. Restoration, 132. Reintroduction, 133. Captive breeding, 134. Harvesting, 135. Culling, 136. Hunting, 137. Fishing, 138. Farming, 139. Ranching, 140. Forestry, 141. Gardening, 142. Companion animal, 143. Working animal, 144. Sport animal, 145. Entertainment animal, 146. Experiment animal, 147. Meat, 148. Dairy, 149. Egg, 150. Honey, 151. Silk, 152. Wool, 153. Leather, 154. Fur, 155. Ivory, 156. Horn, 157. Bone, 158. Feather, 159. Down, 160. Beak, 161. Fin, 162. Scale, 163. Shell, 164. Pearl, 165. Ambergris, 166. Musk, 167. Civet, 168. Castoreum, 169. Cantharidin, 170. Latex, 171. Resin, 172. Gum, 173. Cork, 174. Bamboo, 175. Rattan, 176. Rubber, 177. Timber, 178. Wood, 179. Charcoal, 180. Pulp, 181. Paper, 182. Dye, 183. Tannin, 184. Drug, 185. Spice, 186. Herb, 187. Flower, 188. Fruit, 189. Vegetable, 190. Cereal, 191. Nut, 192. Seed, 193. Bean, 194. Tubercle, 195. Fungus, 196. Algae, 197. Seaweed, 198. Sponge, 199. Coral, 200. Jellyfish\"\n",
    "write_to_csv(f'{env_dir}/words.csv', env_tax_word)"
   ]
  }
 ],
 "metadata": {
  "kernelspec": {
   "display_name": "Python 3",
   "language": "python",
   "name": "python3"
  },
  "language_info": {
   "codemirror_mode": {
    "name": "ipython",
    "version": 3
   },
   "file_extension": ".py",
   "mimetype": "text/x-python",
   "name": "python",
   "nbconvert_exporter": "python",
   "pygments_lexer": "ipython3",
   "version": "3.11.4"
  }
 },
 "nbformat": 4,
 "nbformat_minor": 2
}
